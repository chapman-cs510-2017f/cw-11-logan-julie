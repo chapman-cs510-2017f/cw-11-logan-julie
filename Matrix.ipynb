{
 "cells": [
  {
   "cell_type": "markdown",
   "metadata": {
    "collapsed": false
   },
   "source": [
    "Name: Julie Gardner-Hoag, Logan Gantner<br> \n",
    "Student ID: 2299636, 2307470 <br>\n",
    "Email: gardnerh@chapman.edu, gantner@chapman.edu <br>\n",
    "Course: CS510 Fall 2017 <br>\n",
    "Classwork 11"
   ]
  },
  {
   "cell_type": "markdown",
   "metadata": {
    "collapsed": false
   },
   "source": [
    "## Matrix ##"
   ]
  },
  {
   "cell_type": "markdown",
   "metadata": {
    "collapsed": false
   },
   "source": [
    "Matrix type is defined as a struct containing three objects; the number of rows, the number of columns, and a pointer to an array of long doubles. This array contains the values of the matrix. The index type and the value type are given names in the header file. When we create a matrix, we determine how much space is needed and sets all the values of the matrix to 0 initially. When we need to go to an element in the matrix, we calculate the location in the flat array using $$location = (\\text{current row})*(\\text{number of columns}) + (\\text{current column})$$"
   ]
  },
  {
   "cell_type": "markdown",
   "metadata": {
    "collapsed": false
   },
   "source": [
    "The difference between row-majoring ordering and column-major ordering is the way in which you flatten the matrix. Row-major ordering means that you order the matrix one row after the other. Column-majoring ordering means that you order the matrix one column after the other.<br>\n",
    "The default convention in both C and Python is row-major ordering."
   ]
  },
  {
   "cell_type": "markdown",
   "metadata": {
    "collapsed": false
   },
   "source": [
    "To force C to use the non-default array ordering, we'd change the formula for location used in the getter and setter functions to the following $$location = (\\text{current column})*(\\text{number of rows}) + (\\text{current row})$$"
   ]
  }
 ],
 "metadata": {
  "kernelspec": {
   "display_name": "Bash (Linux)",
   "language": "bash",
   "name": "bash"
  },
  "language_info": {
   "codemirror_mode": "shell",
   "file_extension": ".sh",
   "mimetype": "text/x-sh",
   "name": "bash"
  }
 },
 "nbformat": 4,
 "nbformat_minor": 0
}